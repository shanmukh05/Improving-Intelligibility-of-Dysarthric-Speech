{
 "cells": [
  {
   "cell_type": "code",
   "execution_count": 2,
   "metadata": {},
   "outputs": [],
   "source": [
    "import os\n",
    "\n",
    "import numpy as np\n",
    "from PIL import Image\n",
    "import cv2\n",
    "import numpy as np\n",
    "import os\n",
    "\n",
    "from tqdm import tqdm"
   ]
  },
  {
   "cell_type": "code",
   "execution_count": 6,
   "metadata": {},
   "outputs": [],
   "source": [
    "###################\n",
    "## GrayScale to RGB\n",
    "###################\n",
    "\n",
    "input_dir = \"../dataset/gray_img/\"\n",
    "output_dir = \"../dataset/rgb_img/\"\n",
    "\n",
    "for folder in os.listdir(input_dir):\n",
    "    for filename in tqdm(os.listdir(os.path.join(input_dir, folder))):\n",
    "        if filename.endswith('.png'):\n",
    "            img = cv2.imread(os.path.join(input_dir, folder, filename), cv2.IMREAD_GRAYSCALE)\n",
    "            img = cv2.cvtColor(img, cv2.COLOR_GRAY2RGB)\n",
    "            cv2.imwrite(os.path.join(output_dir, folder, filename), img)\n",
    "        else:\n",
    "            continue"
   ]
  },
  {
   "cell_type": "code",
   "execution_count": 1,
   "metadata": {},
   "outputs": [],
   "source": [
    "import os\n",
    "import cv2"
   ]
  },
  {
   "cell_type": "code",
   "execution_count": 7,
   "metadata": {},
   "outputs": [
    {
     "name": "stdout",
     "output_type": "stream",
     "text": [
      "\n",
      " FLAGS parsed :  Namespace(dur=None, fftsize=1024, filename='./site/sample.wav', hopsize=256, mode='single', outdir='./output', rootdir='./', sr=None)\n",
      "Dataset: min magnitude= 4.51037e-07 max magnitude= 5.656293\n",
      "Using [0,6] -> [0,255] for png conversion\n",
      "0: ./site/sample\n",
      "COMPLETE\n"
     ]
    }
   ],
   "source": [
    "!python wav2png.py --filename ./site/sample.wav --mode single"
   ]
  },
  {
   "cell_type": "code",
   "execution_count": 2,
   "metadata": {},
   "outputs": [
    {
     "name": "stdout",
     "output_type": "stream",
     "text": [
      "d:\\IIT KGP\\sem7\\Technology for Special Needs Education\\project\\code\\cycle_gan\n",
      "Namespace(cuda=False, file='../sample.png', image_size=256, manualSeed=None, model_name='./weights/netG_A2B.pth')\n",
      "Random Seed:  630\n",
      "cost 2.7727s\n",
      "d:\\IIT KGP\\sem7\\Technology for Special Needs Education\\project\\code\n"
     ]
    }
   ],
   "source": [
    "im = cv2.imread(\"./sample.png\" , cv2.COLOR_BGR2RGB)\n",
    "w = im.shape[0]\n",
    "h = im.shape[1]\n",
    "\n",
    "%cd ./cycle_gan\n",
    "!python test_image.py --file ../sample.png --model-name ./weights/netG_A2B.pth\n",
    "%cd ../"
   ]
  },
  {
   "cell_type": "code",
   "execution_count": 3,
   "metadata": {},
   "outputs": [
    {
     "data": {
      "text/plain": [
       "True"
      ]
     },
     "execution_count": 3,
     "metadata": {},
     "output_type": "execute_result"
    }
   ],
   "source": [
    "im = cv2.imread(\"./cycle_gan/result.png\", cv2.COLOR_BGR2RGB)\n",
    "im = cv2.resize(im, (w,h))\n",
    "cv2.imwrite(\"./output.png\", im)"
   ]
  },
  {
   "cell_type": "code",
   "execution_count": 3,
   "metadata": {},
   "outputs": [
    {
     "name": "stdout",
     "output_type": "stream",
     "text": [
      "\n",
      " FLAGS parsed :  Namespace(filename='./output.png', glsteps=50, hopsize=256, outdir='./output', scalemax=4, scalemin=0, sr=22050, wavfile=None)\n",
      "PNG2LogSpect: no img.text, using user specified values!\n",
      "scaling peak sample, 0.26187247 to 1\n"
     ]
    }
   ],
   "source": [
    "!python png2wav.py --filename ./output.png --output ./output.wav"
   ]
  },
  {
   "cell_type": "code",
   "execution_count": null,
   "metadata": {},
   "outputs": [],
   "source": []
  }
 ],
 "metadata": {
  "kernelspec": {
   "display_name": "Python 3.6.3 ('t4sne')",
   "language": "python",
   "name": "python3"
  },
  "language_info": {
   "codemirror_mode": {
    "name": "ipython",
    "version": 3
   },
   "file_extension": ".py",
   "mimetype": "text/x-python",
   "name": "python",
   "nbconvert_exporter": "python",
   "pygments_lexer": "ipython3",
   "version": "3.7.1"
  },
  "orig_nbformat": 4,
  "vscode": {
   "interpreter": {
    "hash": "aee4c92ccc8376c6006be65955c1c5272797e06c419a5863e140a752d5139e99"
   }
  }
 },
 "nbformat": 4,
 "nbformat_minor": 2
}
